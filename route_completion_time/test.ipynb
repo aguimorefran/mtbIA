{
 "cells": [
  {
   "cell_type": "code",
   "execution_count": 34,
   "metadata": {},
   "outputs": [
    {
     "name": "stdout",
     "output_type": "stream",
     "text": [
      "i171109\n",
      "7hqhcubmp6ikkulwi4zanoj88\n"
     ]
    }
   ],
   "source": [
    "import os\n",
    "import sys\n",
    "import json\n",
    "import time\n",
    "import datetime\n",
    "import pandas as pd\n",
    "\n",
    "from dotenv import load_dotenv\n",
    "\n",
    "from intervals import Intervals\n",
    "\n",
    "load_dotenv()\n",
    "\n",
    "\n",
    "ATHLETE_ID = \"\"\n",
    "API_KEY = \"\"\n",
    "\n",
    "try:\n",
    "    ATHLETE_ID = os.environ['ATHLETE_ID']\n",
    "    API_KEY = os.environ['API_KEY']\n",
    "except KeyError:\n",
    "    print(\"Please set ATHLETE_ID and API_KEY in .env file\")\n",
    "    sys.exit(1)\n",
    "\n",
    "\n",
    "print(ATHLETE_ID)\n",
    "print(API_KEY)"
   ]
  },
  {
   "cell_type": "code",
   "execution_count": 40,
   "metadata": {},
   "outputs": [
    {
     "name": "stdout",
     "output_type": "stream",
     "text": [
      "Time taken: 0.36s\n"
     ]
    }
   ],
   "source": [
    "icu = Intervals(ATHLETE_ID, API_KEY)\n",
    "\n",
    "START_DATE = \"01/01/2024\"\n",
    "WELLNESS_COLS = [\n",
    "    \"ctl_start\",\n",
    "    \"atl_start\",\n",
    "    \"date\",\n",
    "    \"weight\",\n",
    "    \"watt_kg\",\n",
    "]\n",
    "\n",
    "start_date = datetime.datetime.strptime(START_DATE, \"%d/%m/%Y\").date()\n",
    "today_date = datetime.date.today()\n",
    "\n",
    "\n",
    "def fetch_wellness(start_date, end_date):\n",
    "    data = icu.wellness(start_date, today_date)\n",
    "    df = pd.DataFrame(data)\n",
    "    df[\"date\"] = pd.to_datetime(df[\"id\"])\n",
    "    df = df.drop(columns=[\"id\"])\n",
    "    df = df.sort_values(by=\"date\")\n",
    "    df['eftp'] = df['sportInfo'].apply(lambda x: x[0]['eftp'] if len(x) > 0 else None)\n",
    "    df = df.drop(columns=[\"sportInfo\"])\n",
    "\n",
    "    df['weight'] = df['weight'].ffill().bfill()\n",
    "    df['eftp'] = df['eftp'].ffill().bfill()\n",
    "\n",
    "    df['ctl_start'] = df['ctl'].shift(1)\n",
    "    df['atl_start'] = df['atl'].shift(1)\n",
    "\n",
    "    df['watt_kg'] = df['eftp'] / df['weight']\n",
    "\n",
    "    return df[WELLNESS_COLS]\n",
    "\n",
    "tic = time.time()\n",
    "df = fetch_wellness(start_date, today_date)\n",
    "toc = time.time()\n",
    "print(f\"Time taken: {toc-tic:.2f}s\")"
   ]
  }
 ],
 "metadata": {
  "kernelspec": {
   "display_name": "mtb",
   "language": "python",
   "name": "python3"
  },
  "language_info": {
   "codemirror_mode": {
    "name": "ipython",
    "version": 3
   },
   "file_extension": ".py",
   "mimetype": "text/x-python",
   "name": "python",
   "nbconvert_exporter": "python",
   "pygments_lexer": "ipython3",
   "version": "3.10.14"
  }
 },
 "nbformat": 4,
 "nbformat_minor": 2
}
