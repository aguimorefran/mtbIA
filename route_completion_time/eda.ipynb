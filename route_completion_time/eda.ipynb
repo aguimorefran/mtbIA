{
 "cells": [
  {
   "cell_type": "code",
   "execution_count": 1,
   "metadata": {},
   "outputs": [
    {
     "data": {
      "text/html": [
       "<div>\n",
       "<style scoped>\n",
       "    .dataframe tbody tr th:only-of-type {\n",
       "        vertical-align: middle;\n",
       "    }\n",
       "\n",
       "    .dataframe tbody tr th {\n",
       "        vertical-align: top;\n",
       "    }\n",
       "\n",
       "    .dataframe thead th {\n",
       "        text-align: right;\n",
       "    }\n",
       "</style>\n",
       "<table border=\"1\" class=\"dataframe\">\n",
       "  <thead>\n",
       "    <tr style=\"text-align: right;\">\n",
       "      <th></th>\n",
       "      <th>distance_meters</th>\n",
       "      <th>elevation_gain</th>\n",
       "      <th>duration_seconds</th>\n",
       "      <th>hour_of_day</th>\n",
       "      <th>atl_start</th>\n",
       "      <th>ctl_start</th>\n",
       "      <th>watt_kg</th>\n",
       "      <th>avg_temperature</th>\n",
       "      <th>dh_extreme_pct</th>\n",
       "      <th>dh_pct</th>\n",
       "      <th>green_pct</th>\n",
       "      <th>yellow_pct</th>\n",
       "      <th>orange_pct</th>\n",
       "      <th>red_pct</th>\n",
       "      <th>black_pct</th>\n",
       "    </tr>\n",
       "  </thead>\n",
       "  <tbody>\n",
       "    <tr>\n",
       "      <th>0</th>\n",
       "      <td>23352.9</td>\n",
       "      <td>565.6</td>\n",
       "      <td>292028.0</td>\n",
       "      <td>15</td>\n",
       "      <td>21.235756</td>\n",
       "      <td>14.241416</td>\n",
       "      <td>2.206186</td>\n",
       "      <td>11.905305</td>\n",
       "      <td>0.025186</td>\n",
       "      <td>0.281482</td>\n",
       "      <td>0.421094</td>\n",
       "      <td>0.112652</td>\n",
       "      <td>0.087913</td>\n",
       "      <td>0.045050</td>\n",
       "      <td>0.026621</td>\n",
       "    </tr>\n",
       "    <tr>\n",
       "      <th>1</th>\n",
       "      <td>18987.0</td>\n",
       "      <td>596.8</td>\n",
       "      <td>983907.0</td>\n",
       "      <td>15</td>\n",
       "      <td>12.208211</td>\n",
       "      <td>13.982171</td>\n",
       "      <td>2.206186</td>\n",
       "      <td>10.865782</td>\n",
       "      <td>0.039445</td>\n",
       "      <td>0.306947</td>\n",
       "      <td>0.304518</td>\n",
       "      <td>0.087300</td>\n",
       "      <td>0.132748</td>\n",
       "      <td>0.083217</td>\n",
       "      <td>0.045826</td>\n",
       "    </tr>\n",
       "    <tr>\n",
       "      <th>2</th>\n",
       "      <td>23681.8</td>\n",
       "      <td>763.8</td>\n",
       "      <td>1219984.0</td>\n",
       "      <td>8</td>\n",
       "      <td>18.256845</td>\n",
       "      <td>15.328999</td>\n",
       "      <td>2.206186</td>\n",
       "      <td>14.139014</td>\n",
       "      <td>0.042519</td>\n",
       "      <td>0.255555</td>\n",
       "      <td>0.290030</td>\n",
       "      <td>0.103856</td>\n",
       "      <td>0.190613</td>\n",
       "      <td>0.076095</td>\n",
       "      <td>0.041332</td>\n",
       "    </tr>\n",
       "    <tr>\n",
       "      <th>3</th>\n",
       "      <td>18932.3</td>\n",
       "      <td>553.6</td>\n",
       "      <td>1414544.0</td>\n",
       "      <td>15</td>\n",
       "      <td>27.683079</td>\n",
       "      <td>17.396097</td>\n",
       "      <td>2.206186</td>\n",
       "      <td>10.560117</td>\n",
       "      <td>0.034169</td>\n",
       "      <td>0.318324</td>\n",
       "      <td>0.280189</td>\n",
       "      <td>0.118634</td>\n",
       "      <td>0.182281</td>\n",
       "      <td>0.045036</td>\n",
       "      <td>0.021367</td>\n",
       "    </tr>\n",
       "    <tr>\n",
       "      <th>4</th>\n",
       "      <td>23733.3</td>\n",
       "      <td>703.0</td>\n",
       "      <td>1675124.0</td>\n",
       "      <td>15</td>\n",
       "      <td>27.337395</td>\n",
       "      <td>18.283237</td>\n",
       "      <td>2.206186</td>\n",
       "      <td>11.753166</td>\n",
       "      <td>0.030927</td>\n",
       "      <td>0.291025</td>\n",
       "      <td>0.291667</td>\n",
       "      <td>0.093512</td>\n",
       "      <td>0.175628</td>\n",
       "      <td>0.085923</td>\n",
       "      <td>0.031319</td>\n",
       "    </tr>\n",
       "  </tbody>\n",
       "</table>\n",
       "</div>"
      ],
      "text/plain": [
       "   distance_meters  elevation_gain  duration_seconds  hour_of_day  atl_start  \\\n",
       "0          23352.9           565.6          292028.0           15  21.235756   \n",
       "1          18987.0           596.8          983907.0           15  12.208211   \n",
       "2          23681.8           763.8         1219984.0            8  18.256845   \n",
       "3          18932.3           553.6         1414544.0           15  27.683079   \n",
       "4          23733.3           703.0         1675124.0           15  27.337395   \n",
       "\n",
       "   ctl_start   watt_kg  avg_temperature  dh_extreme_pct    dh_pct  green_pct  \\\n",
       "0  14.241416  2.206186        11.905305        0.025186  0.281482   0.421094   \n",
       "1  13.982171  2.206186        10.865782        0.039445  0.306947   0.304518   \n",
       "2  15.328999  2.206186        14.139014        0.042519  0.255555   0.290030   \n",
       "3  17.396097  2.206186        10.560117        0.034169  0.318324   0.280189   \n",
       "4  18.283237  2.206186        11.753166        0.030927  0.291025   0.291667   \n",
       "\n",
       "   yellow_pct  orange_pct   red_pct  black_pct  \n",
       "0    0.112652    0.087913  0.045050   0.026621  \n",
       "1    0.087300    0.132748  0.083217   0.045826  \n",
       "2    0.103856    0.190613  0.076095   0.041332  \n",
       "3    0.118634    0.182281  0.045036   0.021367  \n",
       "4    0.093512    0.175628  0.085923   0.031319  "
      ]
     },
     "execution_count": 1,
     "metadata": {},
     "output_type": "execute_result"
    }
   ],
   "source": [
    "import pandas as pd\n",
    "import numpy as np\n",
    "\n",
    "# Load \n",
    "data = pd.read_csv('activity_data.csv').drop(columns=['activity_id', 'date'])\n",
    "data.head()"
   ]
  },
  {
   "cell_type": "code",
   "execution_count": 2,
   "metadata": {},
   "outputs": [
    {
     "name": "stdout",
     "output_type": "stream",
     "text": [
      "Mean Squared Error: 3885195696579.549\n",
      "Mean Absolute Error: 1343159.5021433064\n",
      "R2 Score: 0.7831836880291905\n"
     ]
    }
   ],
   "source": [
    "# Train a Linear Regression model\n",
    "# Use std scaler to scale the data\n",
    "\n",
    "from sklearn.linear_model import LinearRegression\n",
    "from sklearn.model_selection import train_test_split\n",
    "from sklearn.preprocessing import StandardScaler\n",
    "from sklearn.metrics import mean_squared_error, mean_absolute_error, r2_score\n",
    "\n",
    "predict_feature = 'duration_seconds'\n",
    "\n",
    "X = data.drop(columns=[predict_feature])\n",
    "y = data[predict_feature]\n",
    "\n",
    "X_train, X_test, y_train, y_test = train_test_split(X, y, test_size=0.2, random_state=42)\n",
    "\n",
    "scaler = StandardScaler()\n",
    "X_train = scaler.fit_transform(X_train)\n",
    "X_test = scaler.transform(X_test)\n",
    "\n",
    "model = LinearRegression()\n",
    "model.fit(X_train, y_train)\n",
    "\n",
    "y_pred = model.predict(X_test)\n",
    "\n",
    "print('Mean Squared Error:', mean_squared_error(y_test, y_pred))\n",
    "print('Mean Absolute Error:', mean_absolute_error(y_test, y_pred))\n",
    "print('R2 Score:', r2_score(y_test, y_pred))"
   ]
  },
  {
   "cell_type": "code",
   "execution_count": 3,
   "metadata": {},
   "outputs": [
    {
     "data": {
      "image/png": "[encoded data removed]",
      "text/plain": [
       "<Figure size 640x480 with 1 Axes>"
      ]
     },
     "metadata": {},
     "output_type": "display_data"
    }
   ],
   "source": [
    "# Apply PCA\n",
    "# Get the number of components that explain 95% and plot the explained variance ratio\n",
    "\n",
    "from sklearn.decomposition import PCA\n",
    "import matplotlib.pyplot as plt\n",
    "\n",
    "pca = PCA()\n",
    "X_train_pca = pca.fit_transform(X_train)\n",
    "\n",
    "explained_variance_ratio = pca.explained_variance_ratio_\n",
    "cumulative_explained_variance_ratio = np.cumsum(explained_variance_ratio)\n",
    "\n",
    "plt.plot(cumulative_explained_variance_ratio)\n",
    "plt.xlabel('Number of Components')\n",
    "plt.ylabel('Cumulative Explained Variance Ratio')\n",
    "plt.show()"
   ]
  },
  {
   "cell_type": "code",
   "execution_count": 6,
   "metadata": {},
   "outputs": [
    {
     "name": "stdout",
     "output_type": "stream",
     "text": [
      "Number of components that explain 99%: 10\n",
      "Mean Squared Error: 905695410607.0835\n",
      "Mean Absolute Error: 703914.5287090833\n",
      "R2 Score: 0.9494569761647796\n"
     ]
    }
   ],
   "source": [
    "from sklearn.metrics import mean_squared_error, r2_score\n",
    "\n",
    "n_components = np.argmax(cumulative_explained_variance_ratio >= 0.99) + 1\n",
    "print('Number of components that explain 99%:', n_components)\n",
    "\n",
    "# Train a Linear Regression model with the PCA components\n",
    "# Use std scaler to scale the data\n",
    "\n",
    "X_train, X_test, y_train, y_test = train_test_split(X, y, test_size=0.2, random_state=42)\n",
    "\n",
    "scaler = StandardScaler()\n",
    "X_train = scaler.fit_transform(X_train)\n",
    "X_test = scaler.transform(X_test)\n",
    "\n",
    "pca = PCA(n_components=n_components)\n",
    "X_train_pca = pca.fit_transform(X_train)\n",
    "X_test_pca = pca.transform(X_test)\n",
    "\n",
    "model = LinearRegression()\n",
    "model.fit(X_train_pca, y_train)\n",
    "\n",
    "y_pred = model.predict(X_test_pca)\n",
    "\n",
    "print('Mean Squared Error:', mean_squared_error(y_test, y_pred))\n",
    "print('Mean Absolute Error:', mean_absolute_error(y_test, y_pred))\n",
    "print('R2 Score:', r2_score(y_test, y_pred))\n"
   ]
  },
  {
   "cell_type": "code",
   "execution_count": 8,
   "metadata": {},
   "outputs": [
    {
     "data": {
      "image/png": "[encoded data removed]",
      "text/plain": [
       "<Figure size 640x480 with 1 Axes>"
      ]
     },
     "metadata": {},
     "output_type": "display_data"
    }
   ],
   "source": [
    "# Perform a clustering analysis with inertia score\n",
    "\n",
    "from sklearn.cluster import KMeans\n",
    "\n",
    "inertia_scores = []\n",
    "for n_clusters in range(1, 11):\n",
    "    kmeans = KMeans(n_clusters=n_clusters)\n",
    "    kmeans.fit(X_train)\n",
    "    inertia_scores.append(kmeans.inertia_)\n",
    "\n",
    "plt.plot(range(1, 11), inertia_scores)\n",
    "plt.xlabel('Number of Clusters')\n",
    "plt.ylabel('Inertia Score')\n",
    "plt.show()\n"
   ]
  },
  {
   "cell_type": "code",
   "execution_count": null,
   "metadata": {},
   "outputs": [],
   "source": [
    "# Best number of clusters\n",
    "n_clusters = 3\n",
    "\n"
   ]
  }
 ],
 "metadata": {
  "kernelspec": {
   "display_name": "mtb",
   "language": "python",
   "name": "python3"
  },
  "language_info": {
   "codemirror_mode": {
    "name": "ipython",
    "version": 3
   },
   "file_extension": ".py",
   "mimetype": "text/x-python",
   "name": "python",
   "nbconvert_exporter": "python",
   "pygments_lexer": "ipython3",
   "version": "3.10.14"
  }
 },
 "nbformat": 4,
 "nbformat_minor": 2
}
