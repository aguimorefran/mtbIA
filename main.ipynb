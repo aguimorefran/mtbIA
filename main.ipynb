{
 "cells": [
  {
   "cell_type": "code",
   "execution_count": 13,
   "metadata": {},
   "outputs": [],
   "source": [
    "import xml.etree.ElementTree as ET\n",
    "import pandas as pd\n",
    "from tqdm import tqdm\n",
    "import os"
   ]
  },
  {
   "cell_type": "code",
   "execution_count": 14,
   "metadata": {},
   "outputs": [
    {
     "name": "stdout",
     "output_type": "stream",
     "text": [
      "Found 37 activity files\n"
     ]
    },
    {
     "name": "stderr",
     "output_type": "stream",
     "text": [
      "100%|██████████| 37/37 [02:50<00:00,  4.62s/it]\n"
     ]
    }
   ],
   "source": [
    "# activity_files = []\n",
    "# for root, dirs, files in os.walk(os.path.join('.', 'activities', 'tcx')):\n",
    "#     for file in files:\n",
    "#         if file.endswith('.tcx'):\n",
    "#             activity_files.append(os.path.join(root, file))\n",
    "\n",
    "# print('Found {} activity files'.format(len(activity_files)))\n",
    "\n",
    "# for act in tqdm(activity_files):\n",
    "#     df = pd.DataFrame()\n",
    "#     tree = ET.parse(act)\n",
    "#     root = tree.getroot()\n",
    "\n",
    "#     ns = {'default': 'http://www.garmin.com/xmlschemas/TrainingCenterDatabase/v2',\n",
    "#           'ext': 'http://www.garmin.com/xmlschemas/ActivityExtension/v2'}\n",
    "\n",
    "#     trackpoints = root.findall('.//default:Trackpoint', ns)\n",
    "\n",
    "#     for tp in trackpoints:\n",
    "#         time = tp.find('default:Time', ns).text\n",
    "#         latitude = tp.find('default:Position/default:LatitudeDegrees', ns).text\n",
    "#         longitude = tp.find('default:Position/default:LongitudeDegrees', ns).text\n",
    "#         altitude = float(tp.find('default:AltitudeMeters', ns).text)\n",
    "#         distance = float(tp.find('default:DistanceMeters', ns).text)\n",
    "#         heart_rate = tp.find('default:HeartRateBpm/default:Value', ns).text\n",
    "#         speed_kmh = float(tp.find('default:Extensions/ext:TPX/ext:Speed', ns).text) * 3.6\n",
    "\n",
    "#         df = pd.concat([df, pd.DataFrame([[time, latitude, longitude, altitude, distance, heart_rate, speed_kmh]])])\n",
    "\n",
    "#     df.columns = ['Time', 'Latitude', 'Longitude', 'Altitude', 'Distance', 'HeartRate', 'Speed']\n",
    "\n",
    "#     # Save to CSV\n",
    "#     csv_path = os.path.join('.', 'activities', 'csv', os.path.relpath(act, os.path.join('.', 'activities', 'tcx'))).replace('.tcx', '.csv')\n",
    "#     os.makedirs(os.path.dirname(csv_path), exist_ok=True)\n",
    "#     df.to_csv(csv_path, index=False)"
   ]
  },
  {
   "cell_type": "code",
   "execution_count": null,
   "metadata": {},
   "outputs": [],
   "source": []
  }
 ],
 "metadata": {
  "kernelspec": {
   "display_name": "mtbia",
   "language": "python",
   "name": "python3"
  },
  "language_info": {
   "codemirror_mode": {
    "name": "ipython",
    "version": 3
   },
   "file_extension": ".py",
   "mimetype": "text/x-python",
   "name": "python",
   "nbconvert_exporter": "python",
   "pygments_lexer": "ipython3",
   "version": "3.10.13"
  }
 },
 "nbformat": 4,
 "nbformat_minor": 2
}
