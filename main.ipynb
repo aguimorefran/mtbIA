{
 "cells": [
  {
   "cell_type": "code",
   "execution_count": 2,
   "metadata": {},
   "outputs": [],
   "source": [
    "import xml.etree.ElementTree as ET\n",
    "import pandas as pd\n",
    "from tqdm import tqdm\n",
    "import os"
   ]
  },
  {
   "cell_type": "code",
   "execution_count": 10,
   "metadata": {},
   "outputs": [
    {
     "name": "stdout",
     "output_type": "stream",
     "text": [
      "Found 37 activity files\n"
     ]
    },
    {
     "name": "stderr",
     "output_type": "stream",
     "text": [
      "  0%|          | 0/37 [00:00<?, ?it/s]"
     ]
    },
    {
     "name": "stderr",
     "output_type": "stream",
     "text": [
      "100%|██████████| 37/37 [00:23<00:00,  1.59it/s]\n"
     ]
    },
    {
     "name": "stdout",
     "output_type": "stream",
     "text": [
      "Found 33 kaggle files\n",
      "                   Time   Latitude  Longitude  Altitude  AltitudeDiff  \\\n",
      "0  2016-07-09T12:50:25Z  30.312931 -97.732638     209.6           0.0   \n",
      "1  2016-07-09T12:50:26Z  30.312892 -97.732639     209.6           0.0   \n",
      "2  2016-07-09T12:50:27Z  30.312861 -97.732631     209.6           0.0   \n",
      "3  2016-07-09T12:50:28Z  30.312823 -97.732617     210.0           0.0   \n",
      "4  2016-07-09T12:50:29Z  30.312788 -97.732592     210.2           0.0   \n",
      "\n",
      "   Distance  Speed  Grade  HeartRate  Acceleration  HeartRate1min  \\\n",
      "0       3.9   0.00      0         88             0           88.0   \n",
      "1       8.0   0.00      0         88             0           88.0   \n",
      "2      12.0   0.00      0         87             0           87.0   \n",
      "3      16.2  14.76      0         88             0           88.0   \n",
      "4      20.3  14.76      0         88             0           88.0   \n",
      "\n",
      "   HeartRate5min  HeartRate10min  Activity  \n",
      "0           88.0            88.0  360_Loop  \n",
      "1           88.0            88.0  360_Loop  \n",
      "2           87.0            87.0  360_Loop  \n",
      "3           88.0            88.0  360_Loop  \n",
      "4           88.0            88.0  360_Loop  \n"
     ]
    }
   ],
   "source": [
    "import os\n",
    "import pandas as pd\n",
    "import xml.etree.ElementTree as ET\n",
    "\n",
    "activity_files = [os.path.join(root, file) for root, _, files in os.walk(os.path.join('.', 'activities', 'tcx')) for file in files if file.endswith('.tcx')]\n",
    "\n",
    "print(f'Found {len(activity_files)} activity files')\n",
    "\n",
    "ns = {'default': 'http://www.garmin.com/xmlschemas/TrainingCenterDatabase/v2', 'ext': 'http://www.garmin.com/xmlschemas/ActivityExtension/v2'}\n",
    "\n",
    "for act in tqdm(activity_files):\n",
    "    tree = ET.parse(act)\n",
    "    root = tree.getroot()\n",
    "    trackpoints = root.findall('.//default:Trackpoint', ns)\n",
    "\n",
    "    data = []\n",
    "\n",
    "    last_altitude = None\n",
    "    last_distance = None\n",
    "    last_speed = None\n",
    "\n",
    "    for tp in trackpoints:\n",
    "        time = tp.find('default:Time', ns).text\n",
    "        latitude = tp.find('default:Position/default:LatitudeDegrees', ns).text\n",
    "        longitude = tp.find('default:Position/default:LongitudeDegrees', ns).text\n",
    "\n",
    "        altitude = float(tp.find('default:AltitudeMeters', ns).text)\n",
    "        altitude_diff = altitude - last_altitude if last_altitude is not None else 0\n",
    "        last_altitude = altitude\n",
    "\n",
    "        distance = float(tp.find('default:DistanceMeters', ns).text)\n",
    "        distance_diff = distance - last_distance if last_distance is not None else 0\n",
    "        last_distance = distance\n",
    "\n",
    "        heart_rate = tp.find('default:HeartRateBpm/default:Value', ns).text\n",
    "        speed_kmh = float(tp.find('default:Extensions/ext:TPX/ext:Speed', ns).text) * 3.6\n",
    "\n",
    "        grade = altitude_diff / distance_diff if distance_diff != 0 else 0\n",
    "\n",
    "        \n",
    "\n",
    "\n",
    "        data.append([time, latitude, longitude, altitude, altitude_diff, distance, speed_kmh, grade, heart_rate, heart_rate_1min, heart_rate_5min, heart_rate_10min])\n",
    "\n",
    "    df = pd.DataFrame(data, columns=['Time', 'Latitude', 'Longitude', 'Altitude', 'AltitudeDiff', 'Distance', 'Speed', 'Grade', 'HeartRate', 'HeartRate1min', 'HeartRate5min', 'HeartRate10min'])\n",
    "\n",
    "    csv_path = os.path.join('.', 'activities', 'csv', os.path.relpath(act, os.path.join('.', 'activities', 'tcx'))).replace('.tcx', '.csv')\n",
    "    os.makedirs(os.path.dirname(csv_path), exist_ok=True)\n",
    "    df.to_csv(csv_path, index=False)\n",
    "\n",
    "kaggle_files = [os.path.join(root, file) for root, _, files in os.walk(os.path.join('.', 'activities', 'csv', 'kaggle')) for file in files if file.endswith('.csv')]\n",
    "\n",
    "print(f'Found {len(kaggle_files)} kaggle files')\n",
    "\n",
    "df = pd.concat([pd.read_csv(file).assign(Activity=os.path.basename(file).replace('.csv', '')) for file in kaggle_files])\n",
    "\n",
    "print(df.head())"
   ]
  }
 ],
 "metadata": {
  "kernelspec": {
   "display_name": "mtbia",
   "language": "python",
   "name": "python3"
  },
  "language_info": {
   "codemirror_mode": {
    "name": "ipython",
    "version": 3
   },
   "file_extension": ".py",
   "mimetype": "text/x-python",
   "name": "python",
   "nbconvert_exporter": "python",
   "pygments_lexer": "ipython3",
   "version": "3.10.13"
  }
 },
 "nbformat": 4,
 "nbformat_minor": 2
}
