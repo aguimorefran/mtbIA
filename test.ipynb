{
 "cells": [
  {
   "cell_type": "code",
   "execution_count": 15,
   "metadata": {},
   "outputs": [],
   "source": [
    "import xml.etree.ElementTree as ET\n",
    "import pandas as pd\n",
    "from tqdm import tqdm\n",
    "import os"
   ]
  },
  {
   "cell_type": "code",
   "execution_count": 17,
   "metadata": {},
   "outputs": [
    {
     "name": "stdout",
     "output_type": "stream",
     "text": [
      "Couldn't find program: 'false'\n"
     ]
    }
   ],
   "source": [
    "%%script false --no-raise-error\n",
    "\n",
    "activity_files = os.listdir('./activities')\n",
    "\n",
    "df = pd.DataFrame()\n",
    "\n",
    "for act in activity_files:\n",
    "    tree = ET.parse('./activities/' + act)\n",
    "    root = tree.getroot()\n",
    "\n",
    "    ns = {'default': 'http://www.garmin.com/xmlschemas/TrainingCenterDatabase/v2',\n",
    "          'ext': 'http://www.garmin.com/xmlschemas/ActivityExtension/v2'}\n",
    "\n",
    "    trackpoints = root.findall('.//default:Trackpoint', ns)\n",
    "\n",
    "    prev_altitude = None\n",
    "    prev_distance = None\n",
    "\n",
    "    for tp in tqdm(trackpoints):\n",
    "        time = tp.find('default:Time', ns).text\n",
    "        latitude = tp.find('default:Position/default:LatitudeDegrees', ns).text\n",
    "        longitude = tp.find('default:Position/default:LongitudeDegrees', ns).text\n",
    "        altitude = float(tp.find('default:AltitudeMeters', ns).text)\n",
    "        distance = float(tp.find('default:DistanceMeters', ns).text)\n",
    "        heart_rate = tp.find('default:HeartRateBpm/default:Value', ns).text\n",
    "        speed_kmh = float(tp.find('default:Extensions/ext:TPX/ext:Speed', ns).text) * 3.6\n",
    "\n",
    "        df = pd.concat([df, pd.DataFrame([[time, latitude, longitude, altitude, distance, heart_rate, speed_kmh]])])\n",
    "\n",
    "        prev_altitude = altitude\n",
    "        prev_distance = distance\n",
    "\n",
    "    df['Activity'] = act\n",
    "\n",
    "df.columns = ['Time', 'Latitude', 'Longitude', 'Altitude', 'Distance', 'HeartRate', 'Speed', 'Activity']\n",
    "\n",
    "# Save to CSV\n",
    "df.to_csv('activities.csv', index=False)"
   ]
  },
  {
   "cell_type": "code",
   "execution_count": null,
   "metadata": {},
   "outputs": [],
   "source": []
  }
 ],
 "metadata": {
  "kernelspec": {
   "display_name": "mtbia",
   "language": "python",
   "name": "python3"
  },
  "language_info": {
   "codemirror_mode": {
    "name": "ipython",
    "version": 3
   },
   "file_extension": ".py",
   "mimetype": "text/x-python",
   "name": "python",
   "nbconvert_exporter": "python",
   "pygments_lexer": "ipython3",
   "version": "3.10.13"
  }
 },
 "nbformat": 4,
 "nbformat_minor": 2
}
